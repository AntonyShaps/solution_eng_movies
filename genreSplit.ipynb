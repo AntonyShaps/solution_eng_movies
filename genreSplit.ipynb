{
 "cells": [
  {
   "cell_type": "code",
   "execution_count": 7,
   "id": "3cb644fb",
   "metadata": {},
   "outputs": [],
   "source": [
    "import pandas as pd\n",
    "import sklearn.preprocessing "
   ]
  },
  {
   "cell_type": "code",
   "execution_count": 2,
   "id": "72eb69c5",
   "metadata": {},
   "outputs": [],
   "source": [
    "df = pd.read_csv(\"movies-database/ml-25m/movies.csv\")"
   ]
  },
  {
   "cell_type": "code",
   "execution_count": 6,
   "id": "df540f03",
   "metadata": {},
   "outputs": [
    {
     "name": "stderr",
     "output_type": "stream",
     "text": [
      "C:\\Users\\cdadmin\\AppData\\Local\\Temp\\ipykernel_3728\\2046800653.py:3: SettingWithCopyWarning: \n",
      "A value is trying to be set on a copy of a slice from a DataFrame.\n",
      "Try using .loc[row_indexer,col_indexer] = value instead\n",
      "\n",
      "See the caveats in the documentation: https://pandas.pydata.org/pandas-docs/stable/user_guide/indexing.html#returning-a-view-versus-a-copy\n",
      "  TempGenre[\"genres\"] = TempGenre[\"genres\"].str.split(\"|\")\n"
     ]
    },
    {
     "data": {
      "application/vnd.microsoft.datawrangler.viewer.v0+json": {
       "columns": [
        {
         "name": "index",
         "rawType": "int64",
         "type": "integer"
        },
        {
         "name": "movieId",
         "rawType": "int64",
         "type": "integer"
        },
        {
         "name": "genres",
         "rawType": "object",
         "type": "string"
        }
       ],
       "ref": "62c965ed-22be-4f5c-b6b4-c800162e2866",
       "rows": [
        [
         "0",
         "1",
         "['Adventure', 'Animation', 'Children', 'Comedy', 'Fantasy']"
        ],
        [
         "1",
         "2",
         "['Adventure', 'Children', 'Fantasy']"
        ],
        [
         "2",
         "3",
         "['Comedy', 'Romance']"
        ],
        [
         "3",
         "4",
         "['Comedy', 'Drama', 'Romance']"
        ],
        [
         "4",
         "5",
         "['Comedy']"
        ],
        [
         "5",
         "6",
         "['Action', 'Crime', 'Thriller']"
        ],
        [
         "6",
         "7",
         "['Comedy', 'Romance']"
        ],
        [
         "7",
         "8",
         "['Adventure', 'Children']"
        ],
        [
         "8",
         "9",
         "['Action']"
        ],
        [
         "9",
         "10",
         "['Action', 'Adventure', 'Thriller']"
        ],
        [
         "10",
         "11",
         "['Comedy', 'Drama', 'Romance']"
        ],
        [
         "11",
         "12",
         "['Comedy', 'Horror']"
        ],
        [
         "12",
         "13",
         "['Adventure', 'Animation', 'Children']"
        ],
        [
         "13",
         "14",
         "['Drama']"
        ],
        [
         "14",
         "15",
         "['Action', 'Adventure', 'Romance']"
        ],
        [
         "15",
         "16",
         "['Crime', 'Drama']"
        ],
        [
         "16",
         "17",
         "['Drama', 'Romance']"
        ],
        [
         "17",
         "18",
         "['Comedy']"
        ],
        [
         "18",
         "19",
         "['Comedy']"
        ],
        [
         "19",
         "20",
         "['Action', 'Comedy', 'Crime', 'Drama', 'Thriller']"
        ],
        [
         "20",
         "21",
         "['Comedy', 'Crime', 'Thriller']"
        ],
        [
         "21",
         "22",
         "['Crime', 'Drama', 'Horror', 'Mystery', 'Thriller']"
        ],
        [
         "22",
         "23",
         "['Action', 'Crime', 'Thriller']"
        ],
        [
         "23",
         "24",
         "['Drama', 'Sci-Fi']"
        ],
        [
         "24",
         "25",
         "['Drama', 'Romance']"
        ],
        [
         "25",
         "26",
         "['Drama']"
        ],
        [
         "26",
         "27",
         "['Children', 'Drama']"
        ],
        [
         "27",
         "28",
         "['Drama', 'Romance']"
        ],
        [
         "28",
         "29",
         "['Adventure', 'Drama', 'Fantasy', 'Mystery', 'Sci-Fi']"
        ],
        [
         "29",
         "30",
         "['Crime', 'Drama']"
        ],
        [
         "30",
         "31",
         "['Drama']"
        ],
        [
         "31",
         "32",
         "['Mystery', 'Sci-Fi', 'Thriller']"
        ],
        [
         "32",
         "33",
         "['Adventure', 'Romance', 'IMAX']"
        ],
        [
         "33",
         "34",
         "['Children', 'Drama']"
        ],
        [
         "34",
         "35",
         "['Drama', 'Romance']"
        ],
        [
         "35",
         "36",
         "['Crime', 'Drama']"
        ],
        [
         "36",
         "37",
         "['Documentary', 'IMAX']"
        ],
        [
         "37",
         "38",
         "['Children', 'Comedy']"
        ],
        [
         "38",
         "39",
         "['Comedy', 'Romance']"
        ],
        [
         "39",
         "40",
         "['Drama']"
        ],
        [
         "40",
         "41",
         "['Drama', 'War']"
        ],
        [
         "41",
         "42",
         "['Action', 'Crime', 'Drama']"
        ],
        [
         "42",
         "43",
         "['Drama']"
        ],
        [
         "43",
         "44",
         "['Action', 'Adventure', 'Fantasy']"
        ],
        [
         "44",
         "45",
         "['Comedy', 'Drama', 'Thriller']"
        ],
        [
         "45",
         "46",
         "['Drama', 'Romance']"
        ],
        [
         "46",
         "47",
         "['Mystery', 'Thriller']"
        ],
        [
         "47",
         "48",
         "['Animation', 'Children', 'Drama', 'Musical', 'Romance']"
        ],
        [
         "48",
         "49",
         "['Drama', 'Romance']"
        ],
        [
         "49",
         "50",
         "['Crime', 'Mystery', 'Thriller']"
        ]
       ],
       "shape": {
        "columns": 2,
        "rows": 62423
       }
      },
      "text/html": [
       "<div>\n",
       "<style scoped>\n",
       "    .dataframe tbody tr th:only-of-type {\n",
       "        vertical-align: middle;\n",
       "    }\n",
       "\n",
       "    .dataframe tbody tr th {\n",
       "        vertical-align: top;\n",
       "    }\n",
       "\n",
       "    .dataframe thead th {\n",
       "        text-align: right;\n",
       "    }\n",
       "</style>\n",
       "<table border=\"1\" class=\"dataframe\">\n",
       "  <thead>\n",
       "    <tr style=\"text-align: right;\">\n",
       "      <th></th>\n",
       "      <th>movieId</th>\n",
       "      <th>genres</th>\n",
       "    </tr>\n",
       "  </thead>\n",
       "  <tbody>\n",
       "    <tr>\n",
       "      <th>0</th>\n",
       "      <td>1</td>\n",
       "      <td>[Adventure, Animation, Children, Comedy, Fantasy]</td>\n",
       "    </tr>\n",
       "    <tr>\n",
       "      <th>1</th>\n",
       "      <td>2</td>\n",
       "      <td>[Adventure, Children, Fantasy]</td>\n",
       "    </tr>\n",
       "    <tr>\n",
       "      <th>2</th>\n",
       "      <td>3</td>\n",
       "      <td>[Comedy, Romance]</td>\n",
       "    </tr>\n",
       "    <tr>\n",
       "      <th>3</th>\n",
       "      <td>4</td>\n",
       "      <td>[Comedy, Drama, Romance]</td>\n",
       "    </tr>\n",
       "    <tr>\n",
       "      <th>4</th>\n",
       "      <td>5</td>\n",
       "      <td>[Comedy]</td>\n",
       "    </tr>\n",
       "    <tr>\n",
       "      <th>...</th>\n",
       "      <td>...</td>\n",
       "      <td>...</td>\n",
       "    </tr>\n",
       "    <tr>\n",
       "      <th>62418</th>\n",
       "      <td>209157</td>\n",
       "      <td>[Drama]</td>\n",
       "    </tr>\n",
       "    <tr>\n",
       "      <th>62419</th>\n",
       "      <td>209159</td>\n",
       "      <td>[Documentary]</td>\n",
       "    </tr>\n",
       "    <tr>\n",
       "      <th>62420</th>\n",
       "      <td>209163</td>\n",
       "      <td>[Comedy, Drama]</td>\n",
       "    </tr>\n",
       "    <tr>\n",
       "      <th>62421</th>\n",
       "      <td>209169</td>\n",
       "      <td>[(no genres listed)]</td>\n",
       "    </tr>\n",
       "    <tr>\n",
       "      <th>62422</th>\n",
       "      <td>209171</td>\n",
       "      <td>[Action, Adventure, Drama]</td>\n",
       "    </tr>\n",
       "  </tbody>\n",
       "</table>\n",
       "<p>62423 rows × 2 columns</p>\n",
       "</div>"
      ],
      "text/plain": [
       "       movieId                                             genres\n",
       "0            1  [Adventure, Animation, Children, Comedy, Fantasy]\n",
       "1            2                     [Adventure, Children, Fantasy]\n",
       "2            3                                  [Comedy, Romance]\n",
       "3            4                           [Comedy, Drama, Romance]\n",
       "4            5                                           [Comedy]\n",
       "...        ...                                                ...\n",
       "62418   209157                                            [Drama]\n",
       "62419   209159                                      [Documentary]\n",
       "62420   209163                                    [Comedy, Drama]\n",
       "62421   209169                               [(no genres listed)]\n",
       "62422   209171                         [Action, Adventure, Drama]\n",
       "\n",
       "[62423 rows x 2 columns]"
      ]
     },
     "execution_count": 6,
     "metadata": {},
     "output_type": "execute_result"
    }
   ],
   "source": [
    "TempGenre = df[[\"movieId\",\"genres\"]]\n",
    "\n",
    "TempGenre[\"genres\"] = TempGenre[\"genres\"].str.split(\"|\")\n",
    "\n",
    "TempGenre"
   ]
  },
  {
   "cell_type": "code",
   "execution_count": 8,
   "id": "e22a4440",
   "metadata": {},
   "outputs": [],
   "source": [
    "# Use MultiLabelBinarizer for one-hot encoding\n",
    "from sklearn.preprocessing import MultiLabelBinarizer\n",
    "mlb = MultiLabelBinarizer()\n",
    "genre_dummies = pd.DataFrame(mlb.fit_transform(TempGenre['genres']), columns=[f\"g_{genre}\" for genre in mlb.classes_])\n",
    "\n",
    "# Combine with movieId\n",
    "result = pd.concat([TempGenre['movieId'], genre_dummies], axis=1)"
   ]
  },
  {
   "cell_type": "code",
   "execution_count": null,
   "id": "0ce4313a",
   "metadata": {},
   "outputs": [
    {
     "name": "stdout",
     "output_type": "stream",
     "text": [
      "g_Drama                 25606\n",
      "g_Comedy                16870\n",
      "g_Thriller               8654\n",
      "g_Romance                7719\n",
      "g_Action                 7348\n",
      "g_Horror                 5989\n",
      "g_Documentary            5605\n",
      "g_Crime                  5319\n",
      "g_(no genres listed)     5062\n",
      "g_Adventure              4145\n",
      "g_Sci-Fi                 3595\n",
      "g_Children               2935\n",
      "g_Animation              2929\n",
      "g_Mystery                2925\n",
      "g_Fantasy                2731\n",
      "g_War                    1874\n",
      "g_Western                1399\n",
      "g_Musical                1054\n",
      "g_Film-Noir               353\n",
      "g_IMAX                    195\n",
      "dtype: int64\n"
     ]
    }
   ],
   "source": [
    "genre_sums = result.drop(columns=['movieId','.sort_values(ascending=False)').sum().sort_values(ascending=False)\n",
    "\n",
    "print(genre_sums)"
   ]
  }
 ],
 "metadata": {
  "kernelspec": {
   "display_name": "Python 3",
   "language": "python",
   "name": "python3"
  },
  "language_info": {
   "codemirror_mode": {
    "name": "ipython",
    "version": 3
   },
   "file_extension": ".py",
   "mimetype": "text/x-python",
   "name": "python",
   "nbconvert_exporter": "python",
   "pygments_lexer": "ipython3",
   "version": "3.11.2"
  }
 },
 "nbformat": 4,
 "nbformat_minor": 5
}
