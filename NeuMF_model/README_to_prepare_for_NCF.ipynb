{
 "cells": [
  {
   "cell_type": "markdown",
   "id": "3c0511b1",
   "metadata": {},
   "source": [
    "## To execute the predictions you will need:\n",
    "\n",
    "- add file \"NeuMF_model/NeuMF-May-31-2025_23-14-35.pth\" (5th version)\n",
    "- create .inter dataset (the code provided below)\n",
    "- to run \"NeuMF_model/NCF_Utilize.ipynb\"\n",
    "\n",
    "In case of compare results (optionally):\n",
    "\n",
    "- add file \"NeuMF_model/NeuMF-May-31-2025_11-08-41.pth\" (4th version)  "
   ]
  },
  {
   "cell_type": "markdown",
   "id": "7ffcf633",
   "metadata": {},
   "source": [
    "## Step 1: Create .inter file (dataset of user interactions)\n",
    "\n",
    "(required by RecBole library)"
   ]
  },
  {
   "cell_type": "code",
   "execution_count": null,
   "id": "54bda046",
   "metadata": {},
   "outputs": [],
   "source": [
    "import pandas as pd\n",
    "import os\n",
    "\n",
    "ratings = pd.read_csv(\"../movies-database/ml-25m/ratings.csv\")\n",
    "\n",
    "ratings = ratings.rename(columns={\n",
    "    'userId': 'user_id',\n",
    "    'movieId': 'item_id'\n",
    "})\n",
    "\n",
    "ratings['user_id'] = ratings['user_id'].astype(str)\n",
    "ratings['item_id'] = ratings['item_id'].astype(str)\n",
    "\n",
    "os.makedirs('../movies-database/movielens', exist_ok=True)\n",
    "ratings.to_csv('../movies-database/movielens/movielens.inter', sep='\\t', index=False)"
   ]
  },
  {
   "cell_type": "markdown",
   "id": "96a2d50e",
   "metadata": {},
   "source": [
    "## Step 2: Manually rename Headings in created file\n",
    "\n",
    "In the created file change the first row:"
   ]
  },
  {
   "cell_type": "markdown",
   "id": "0c8d901f",
   "metadata": {},
   "source": [
    "**<user_id\titem_id\trating\ttimestamp>** --->>>---becomes--->>>--- **<user_id:token\titem_id:token\trating:float\ttimestamp:float>**"
   ]
  },
  {
   "cell_type": "code",
   "execution_count": 3,
   "id": "ca3038b3",
   "metadata": {},
   "outputs": [],
   "source": [
    "# <user_id\titem_id\trating\ttimestamp> --->>>---becomes--->>>--- <user_id:token\titem_id:token\trating:float\ttimestamp:float>"
   ]
  },
  {
   "cell_type": "markdown",
   "id": "19b2e030",
   "metadata": {},
   "source": [
    "## Step 3: ensure that you use the karnel with python 3.11 and recBole 1.2.1"
   ]
  },
  {
   "cell_type": "markdown",
   "id": "bfc8a2c1",
   "metadata": {},
   "source": [
    "**Not working with python 3.12 and 3.13**"
   ]
  }
 ],
 "metadata": {
  "kernelspec": {
   "display_name": "recbole_new_env",
   "language": "python",
   "name": "python3"
  },
  "language_info": {
   "codemirror_mode": {
    "name": "ipython",
    "version": 3
   },
   "file_extension": ".py",
   "mimetype": "text/x-python",
   "name": "python",
   "nbconvert_exporter": "python",
   "pygments_lexer": "ipython3",
   "version": "3.11.11"
  }
 },
 "nbformat": 4,
 "nbformat_minor": 5
}
