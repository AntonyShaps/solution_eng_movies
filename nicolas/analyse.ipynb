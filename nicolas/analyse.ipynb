{
 "cells": [
  {
   "cell_type": "markdown",
   "metadata": {},
   "source": [
    "# Movie Graph Plot"
   ]
  },
  {
   "cell_type": "code",
   "execution_count": 1,
   "metadata": {},
   "outputs": [],
   "source": [
    "import pandas as pd\n",
    "import matplotlib.pyplot as plt"
   ]
  },
  {
   "cell_type": "code",
   "execution_count": null,
   "metadata": {},
   "outputs": [
    {
     "data": {
      "application/vnd.microsoft.datawrangler.viewer.v0+json": {
       "columns": [
        {
         "name": "index",
         "rawType": "int64",
         "type": "integer"
        },
        {
         "name": "userId",
         "rawType": "int64",
         "type": "integer"
        },
        {
         "name": "movieId",
         "rawType": "int64",
         "type": "integer"
        },
        {
         "name": "rating",
         "rawType": "float64",
         "type": "float"
        },
        {
         "name": "timestamp",
         "rawType": "int64",
         "type": "integer"
        }
       ],
       "conversionMethod": "pd.DataFrame",
       "ref": "baa0b277-2874-4b40-9154-909b90dfdef1",
       "rows": [
        [
         "0",
         "1",
         "296",
         "5.0",
         "1147880044"
        ],
        [
         "1",
         "1",
         "306",
         "3.5",
         "1147868817"
        ],
        [
         "2",
         "1",
         "307",
         "5.0",
         "1147868828"
        ],
        [
         "3",
         "1",
         "665",
         "5.0",
         "1147878820"
        ],
        [
         "4",
         "1",
         "899",
         "3.5",
         "1147868510"
        ],
        [
         "5",
         "1",
         "1088",
         "4.0",
         "1147868495"
        ],
        [
         "6",
         "1",
         "1175",
         "3.5",
         "1147868826"
        ],
        [
         "7",
         "1",
         "1217",
         "3.5",
         "1147878326"
        ],
        [
         "8",
         "1",
         "1237",
         "5.0",
         "1147868839"
        ],
        [
         "9",
         "1",
         "1250",
         "4.0",
         "1147868414"
        ],
        [
         "10",
         "1",
         "1260",
         "3.5",
         "1147877857"
        ],
        [
         "11",
         "1",
         "1653",
         "4.0",
         "1147868097"
        ],
        [
         "12",
         "1",
         "2011",
         "2.5",
         "1147868079"
        ],
        [
         "13",
         "1",
         "2012",
         "2.5",
         "1147868068"
        ],
        [
         "14",
         "1",
         "2068",
         "2.5",
         "1147869044"
        ],
        [
         "15",
         "1",
         "2161",
         "3.5",
         "1147868609"
        ],
        [
         "16",
         "1",
         "2351",
         "4.5",
         "1147877957"
        ],
        [
         "17",
         "1",
         "2573",
         "4.0",
         "1147878923"
        ],
        [
         "18",
         "1",
         "2632",
         "5.0",
         "1147878248"
        ],
        [
         "19",
         "1",
         "2692",
         "5.0",
         "1147869100"
        ],
        [
         "20",
         "1",
         "2843",
         "4.5",
         "1147868891"
        ],
        [
         "21",
         "1",
         "3448",
         "4.0",
         "1147868480"
        ],
        [
         "22",
         "1",
         "3569",
         "5.0",
         "1147879603"
        ],
        [
         "23",
         "1",
         "3949",
         "5.0",
         "1147868678"
        ],
        [
         "24",
         "1",
         "4144",
         "5.0",
         "1147868898"
        ],
        [
         "25",
         "1",
         "4308",
         "3.0",
         "1147868534"
        ],
        [
         "26",
         "1",
         "4325",
         "5.0",
         "1147878122"
        ],
        [
         "27",
         "1",
         "4422",
         "3.0",
         "1147869048"
        ],
        [
         "28",
         "1",
         "4703",
         "4.0",
         "1147869223"
        ],
        [
         "29",
         "1",
         "4973",
         "4.5",
         "1147869080"
        ],
        [
         "30",
         "1",
         "5147",
         "4.0",
         "1147877654"
        ],
        [
         "31",
         "1",
         "5269",
         "0.5",
         "1147879571"
        ],
        [
         "32",
         "1",
         "5684",
         "2.0",
         "1147879797"
        ],
        [
         "33",
         "1",
         "5767",
         "5.0",
         "1147878729"
        ],
        [
         "34",
         "1",
         "5878",
         "4.0",
         "1147868807"
        ],
        [
         "35",
         "1",
         "5912",
         "3.0",
         "1147878698"
        ],
        [
         "36",
         "1",
         "5952",
         "4.0",
         "1147868053"
        ],
        [
         "37",
         "1",
         "6016",
         "5.0",
         "1147869090"
        ],
        [
         "38",
         "1",
         "6370",
         "4.5",
         "1147869191"
        ],
        [
         "39",
         "1",
         "6377",
         "4.0",
         "1147868469"
        ],
        [
         "40",
         "1",
         "6539",
         "3.5",
         "1147868461"
        ],
        [
         "41",
         "1",
         "6711",
         "5.0",
         "1147868622"
        ],
        [
         "42",
         "1",
         "6954",
         "3.5",
         "1147869150"
        ],
        [
         "43",
         "1",
         "7209",
         "4.0",
         "1147877986"
        ],
        [
         "44",
         "1",
         "7234",
         "4.5",
         "1147868869"
        ],
        [
         "45",
         "1",
         "7318",
         "2.0",
         "1147879850"
        ],
        [
         "46",
         "1",
         "7323",
         "3.5",
         "1147869119"
        ],
        [
         "47",
         "1",
         "7327",
         "3.5",
         "1147868855"
        ],
        [
         "48",
         "1",
         "7361",
         "5.0",
         "1147880055"
        ],
        [
         "49",
         "1",
         "7365",
         "4.0",
         "1147869033"
        ]
       ],
       "shape": {
        "columns": 4,
        "rows": 25000095
       }
      },
      "text/html": [
       "<div>\n",
       "<style scoped>\n",
       "    .dataframe tbody tr th:only-of-type {\n",
       "        vertical-align: middle;\n",
       "    }\n",
       "\n",
       "    .dataframe tbody tr th {\n",
       "        vertical-align: top;\n",
       "    }\n",
       "\n",
       "    .dataframe thead th {\n",
       "        text-align: right;\n",
       "    }\n",
       "</style>\n",
       "<table border=\"1\" class=\"dataframe\">\n",
       "  <thead>\n",
       "    <tr style=\"text-align: right;\">\n",
       "      <th></th>\n",
       "      <th>userId</th>\n",
       "      <th>movieId</th>\n",
       "      <th>rating</th>\n",
       "      <th>timestamp</th>\n",
       "    </tr>\n",
       "  </thead>\n",
       "  <tbody>\n",
       "    <tr>\n",
       "      <th>0</th>\n",
       "      <td>1</td>\n",
       "      <td>296</td>\n",
       "      <td>5.0</td>\n",
       "      <td>1147880044</td>\n",
       "    </tr>\n",
       "    <tr>\n",
       "      <th>1</th>\n",
       "      <td>1</td>\n",
       "      <td>306</td>\n",
       "      <td>3.5</td>\n",
       "      <td>1147868817</td>\n",
       "    </tr>\n",
       "    <tr>\n",
       "      <th>2</th>\n",
       "      <td>1</td>\n",
       "      <td>307</td>\n",
       "      <td>5.0</td>\n",
       "      <td>1147868828</td>\n",
       "    </tr>\n",
       "    <tr>\n",
       "      <th>3</th>\n",
       "      <td>1</td>\n",
       "      <td>665</td>\n",
       "      <td>5.0</td>\n",
       "      <td>1147878820</td>\n",
       "    </tr>\n",
       "    <tr>\n",
       "      <th>4</th>\n",
       "      <td>1</td>\n",
       "      <td>899</td>\n",
       "      <td>3.5</td>\n",
       "      <td>1147868510</td>\n",
       "    </tr>\n",
       "    <tr>\n",
       "      <th>...</th>\n",
       "      <td>...</td>\n",
       "      <td>...</td>\n",
       "      <td>...</td>\n",
       "      <td>...</td>\n",
       "    </tr>\n",
       "    <tr>\n",
       "      <th>25000090</th>\n",
       "      <td>162541</td>\n",
       "      <td>50872</td>\n",
       "      <td>4.5</td>\n",
       "      <td>1240953372</td>\n",
       "    </tr>\n",
       "    <tr>\n",
       "      <th>25000091</th>\n",
       "      <td>162541</td>\n",
       "      <td>55768</td>\n",
       "      <td>2.5</td>\n",
       "      <td>1240951998</td>\n",
       "    </tr>\n",
       "    <tr>\n",
       "      <th>25000092</th>\n",
       "      <td>162541</td>\n",
       "      <td>56176</td>\n",
       "      <td>2.0</td>\n",
       "      <td>1240950697</td>\n",
       "    </tr>\n",
       "    <tr>\n",
       "      <th>25000093</th>\n",
       "      <td>162541</td>\n",
       "      <td>58559</td>\n",
       "      <td>4.0</td>\n",
       "      <td>1240953434</td>\n",
       "    </tr>\n",
       "    <tr>\n",
       "      <th>25000094</th>\n",
       "      <td>162541</td>\n",
       "      <td>63876</td>\n",
       "      <td>5.0</td>\n",
       "      <td>1240952515</td>\n",
       "    </tr>\n",
       "  </tbody>\n",
       "</table>\n",
       "<p>25000095 rows × 4 columns</p>\n",
       "</div>"
      ],
      "text/plain": [
       "          userId  movieId  rating   timestamp\n",
       "0              1      296     5.0  1147880044\n",
       "1              1      306     3.5  1147868817\n",
       "2              1      307     5.0  1147868828\n",
       "3              1      665     5.0  1147878820\n",
       "4              1      899     3.5  1147868510\n",
       "...          ...      ...     ...         ...\n",
       "25000090  162541    50872     4.5  1240953372\n",
       "25000091  162541    55768     2.5  1240951998\n",
       "25000092  162541    56176     2.0  1240950697\n",
       "25000093  162541    58559     4.0  1240953434\n",
       "25000094  162541    63876     5.0  1240952515\n",
       "\n",
       "[25000095 rows x 4 columns]"
      ]
     },
     "execution_count": 3,
     "metadata": {},
     "output_type": "execute_result"
    }
   ],
   "source": [
    "#movies = pd.read_csv(\"../movies-database/ml-25m/movies.csv\")\n",
    "ratings = pd.read_csv(\"../movies-database/ml-25m/ratings.csv\")\n"
   ]
  },
  {
   "cell_type": "code",
   "execution_count": null,
   "metadata": {},
   "outputs": [
    {
     "data": {
      "application/vnd.microsoft.datawrangler.viewer.v0+json": {
       "columns": [
        {
         "name": "index",
         "rawType": "int64",
         "type": "integer"
        },
        {
         "name": "mov1",
         "rawType": "float64",
         "type": "float"
        },
        {
         "name": "mov2",
         "rawType": "float64",
         "type": "float"
        },
        {
         "name": "connected",
         "rawType": "float64",
         "type": "float"
        },
        {
         "name": "count",
         "rawType": "int64",
         "type": "integer"
        }
       ],
       "conversionMethod": "pd.DataFrame",
       "ref": "c05c26a9-e224-49d0-bf32-b8a486ba5c6d",
       "rows": [
        [
         "0",
         "296.0",
         "306.0",
         "1.5",
         "1"
        ],
        [
         "1",
         "296.0",
         "307.0",
         "0.0",
         "1"
        ],
        [
         "2",
         "296.0",
         "665.0",
         "0.0",
         "1"
        ],
        [
         "3",
         "296.0",
         "899.0",
         "1.5",
         "1"
        ],
        [
         "4",
         "296.0",
         "1088.0",
         "1.0",
         "1"
        ],
        [
         "5",
         "296.0",
         "1175.0",
         "1.5",
         "1"
        ],
        [
         "6",
         "296.0",
         "1217.0",
         "1.5",
         "1"
        ],
        [
         "7",
         "296.0",
         "1237.0",
         "0.0",
         "1"
        ],
        [
         "8",
         "296.0",
         "1250.0",
         "1.0",
         "1"
        ],
        [
         "9",
         "296.0",
         "1260.0",
         "1.5",
         "1"
        ],
        [
         "10",
         "296.0",
         "1653.0",
         "1.0",
         "1"
        ],
        [
         "11",
         "296.0",
         "2011.0",
         "2.5",
         "1"
        ],
        [
         "12",
         "296.0",
         "2012.0",
         "2.5",
         "1"
        ],
        [
         "13",
         "296.0",
         "2068.0",
         "2.5",
         "1"
        ],
        [
         "14",
         "296.0",
         "2161.0",
         "1.5",
         "1"
        ],
        [
         "15",
         "296.0",
         "2351.0",
         "0.5",
         "1"
        ],
        [
         "16",
         "296.0",
         "2573.0",
         "1.0",
         "1"
        ],
        [
         "17",
         "296.0",
         "2632.0",
         "0.0",
         "1"
        ],
        [
         "18",
         "296.0",
         "2692.0",
         "0.0",
         "1"
        ],
        [
         "19",
         "296.0",
         "2843.0",
         "0.5",
         "1"
        ],
        [
         "20",
         "296.0",
         "3448.0",
         "1.0",
         "1"
        ],
        [
         "21",
         "296.0",
         "3569.0",
         "0.0",
         "1"
        ],
        [
         "22",
         "296.0",
         "3949.0",
         "0.0",
         "1"
        ],
        [
         "23",
         "296.0",
         "4144.0",
         "0.0",
         "1"
        ],
        [
         "24",
         "296.0",
         "4308.0",
         "2.0",
         "1"
        ],
        [
         "25",
         "296.0",
         "4325.0",
         "0.0",
         "1"
        ],
        [
         "26",
         "296.0",
         "4422.0",
         "2.0",
         "1"
        ],
        [
         "27",
         "296.0",
         "4703.0",
         "1.0",
         "1"
        ],
        [
         "28",
         "296.0",
         "4973.0",
         "0.5",
         "1"
        ],
        [
         "29",
         "296.0",
         "5147.0",
         "1.0",
         "1"
        ],
        [
         "30",
         "296.0",
         "5269.0",
         "4.5",
         "1"
        ],
        [
         "31",
         "296.0",
         "5684.0",
         "3.0",
         "1"
        ],
        [
         "32",
         "296.0",
         "5767.0",
         "0.0",
         "1"
        ],
        [
         "33",
         "296.0",
         "5878.0",
         "1.0",
         "1"
        ],
        [
         "34",
         "296.0",
         "5912.0",
         "2.0",
         "1"
        ],
        [
         "35",
         "296.0",
         "5952.0",
         "1.0",
         "1"
        ],
        [
         "36",
         "296.0",
         "6016.0",
         "0.0",
         "1"
        ],
        [
         "37",
         "296.0",
         "6370.0",
         "0.5",
         "1"
        ],
        [
         "38",
         "296.0",
         "6377.0",
         "1.0",
         "1"
        ],
        [
         "39",
         "296.0",
         "6539.0",
         "1.5",
         "1"
        ],
        [
         "40",
         "296.0",
         "6711.0",
         "0.0",
         "1"
        ],
        [
         "41",
         "296.0",
         "6954.0",
         "1.5",
         "1"
        ],
        [
         "42",
         "296.0",
         "7209.0",
         "1.0",
         "1"
        ],
        [
         "43",
         "296.0",
         "7234.0",
         "0.5",
         "1"
        ],
        [
         "44",
         "296.0",
         "7318.0",
         "3.0",
         "1"
        ],
        [
         "45",
         "296.0",
         "7323.0",
         "1.5",
         "1"
        ],
        [
         "46",
         "296.0",
         "7327.0",
         "1.5",
         "1"
        ],
        [
         "47",
         "296.0",
         "7361.0",
         "0.0",
         "1"
        ],
        [
         "48",
         "296.0",
         "7365.0",
         "1.0",
         "1"
        ],
        [
         "49",
         "296.0",
         "7820.0",
         "2.5",
         "1"
        ]
       ],
       "shape": {
        "columns": 4,
        "rows": 2415
       }
      },
      "text/html": [
       "<div>\n",
       "<style scoped>\n",
       "    .dataframe tbody tr th:only-of-type {\n",
       "        vertical-align: middle;\n",
       "    }\n",
       "\n",
       "    .dataframe tbody tr th {\n",
       "        vertical-align: top;\n",
       "    }\n",
       "\n",
       "    .dataframe thead th {\n",
       "        text-align: right;\n",
       "    }\n",
       "</style>\n",
       "<table border=\"1\" class=\"dataframe\">\n",
       "  <thead>\n",
       "    <tr style=\"text-align: right;\">\n",
       "      <th></th>\n",
       "      <th>mov1</th>\n",
       "      <th>mov2</th>\n",
       "      <th>connected</th>\n",
       "      <th>count</th>\n",
       "    </tr>\n",
       "  </thead>\n",
       "  <tbody>\n",
       "    <tr>\n",
       "      <th>0</th>\n",
       "      <td>296.0</td>\n",
       "      <td>306.0</td>\n",
       "      <td>1.5</td>\n",
       "      <td>1</td>\n",
       "    </tr>\n",
       "    <tr>\n",
       "      <th>1</th>\n",
       "      <td>296.0</td>\n",
       "      <td>307.0</td>\n",
       "      <td>0.0</td>\n",
       "      <td>1</td>\n",
       "    </tr>\n",
       "    <tr>\n",
       "      <th>2</th>\n",
       "      <td>296.0</td>\n",
       "      <td>665.0</td>\n",
       "      <td>0.0</td>\n",
       "      <td>1</td>\n",
       "    </tr>\n",
       "    <tr>\n",
       "      <th>3</th>\n",
       "      <td>296.0</td>\n",
       "      <td>899.0</td>\n",
       "      <td>1.5</td>\n",
       "      <td>1</td>\n",
       "    </tr>\n",
       "    <tr>\n",
       "      <th>4</th>\n",
       "      <td>296.0</td>\n",
       "      <td>1088.0</td>\n",
       "      <td>1.0</td>\n",
       "      <td>1</td>\n",
       "    </tr>\n",
       "    <tr>\n",
       "      <th>...</th>\n",
       "      <td>...</td>\n",
       "      <td>...</td>\n",
       "      <td>...</td>\n",
       "      <td>...</td>\n",
       "    </tr>\n",
       "    <tr>\n",
       "      <th>2410</th>\n",
       "      <td>27266.0</td>\n",
       "      <td>31956.0</td>\n",
       "      <td>1.0</td>\n",
       "      <td>1</td>\n",
       "    </tr>\n",
       "    <tr>\n",
       "      <th>2411</th>\n",
       "      <td>27266.0</td>\n",
       "      <td>32591.0</td>\n",
       "      <td>0.5</td>\n",
       "      <td>1</td>\n",
       "    </tr>\n",
       "    <tr>\n",
       "      <th>2412</th>\n",
       "      <td>27721.0</td>\n",
       "      <td>31956.0</td>\n",
       "      <td>0.5</td>\n",
       "      <td>1</td>\n",
       "    </tr>\n",
       "    <tr>\n",
       "      <th>2413</th>\n",
       "      <td>27721.0</td>\n",
       "      <td>32591.0</td>\n",
       "      <td>2.0</td>\n",
       "      <td>1</td>\n",
       "    </tr>\n",
       "    <tr>\n",
       "      <th>2414</th>\n",
       "      <td>31956.0</td>\n",
       "      <td>32591.0</td>\n",
       "      <td>1.5</td>\n",
       "      <td>1</td>\n",
       "    </tr>\n",
       "  </tbody>\n",
       "</table>\n",
       "<p>2415 rows × 4 columns</p>\n",
       "</div>"
      ],
      "text/plain": [
       "         mov1     mov2  connected  count\n",
       "0       296.0    306.0        1.5      1\n",
       "1       296.0    307.0        0.0      1\n",
       "2       296.0    665.0        0.0      1\n",
       "3       296.0    899.0        1.5      1\n",
       "4       296.0   1088.0        1.0      1\n",
       "...       ...      ...        ...    ...\n",
       "2410  27266.0  31956.0        1.0      1\n",
       "2411  27266.0  32591.0        0.5      1\n",
       "2412  27721.0  31956.0        0.5      1\n",
       "2413  27721.0  32591.0        2.0      1\n",
       "2414  31956.0  32591.0        1.5      1\n",
       "\n",
       "[2415 rows x 4 columns]"
      ]
     },
     "execution_count": 17,
     "metadata": {},
     "output_type": "execute_result"
    }
   ],
   "source": [
    "\n",
    "newDF = ratings[ratings[\"userId\"] == 1]\n",
    "i = len(newDF)\n",
    "resultDF = []\n",
    "\n",
    "for index in range(i):\n",
    "    for innerIndex in range(index+1,i):\n",
    "        mov1 = newDF.iloc[index]\n",
    "        mov2 = newDF.iloc[innerIndex]\n",
    "        \n",
    "        resultDF.append({\"mov1\":mov1[\"movieId\"],\"mov2\":mov2[\"movieId\"], \"distance\":abs(mov1[\"rating\"]-mov2[\"rating\"]), \"count\":1})\n",
    "\n",
    "\n",
    "resultDF = pd.DataFrame.from_dict(resultDF)\n",
    "\n",
    "resultDF"
   ]
  },
  {
   "cell_type": "code",
   "execution_count": 21,
   "metadata": {},
   "outputs": [],
   "source": [
    "ratings1 = pd.read_csv(\"../movies-database/ml-25m/ratings.csv\")\n",
    "ratings2 = ratings1.copy()"
   ]
  },
  {
   "cell_type": "code",
   "execution_count": 23,
   "metadata": {},
   "outputs": [
    {
     "ename": "MemoryError",
     "evalue": "Unable to allocate 116. GiB for an array with shape (15523632345,) and data type int64",
     "output_type": "error",
     "traceback": [
      "\u001b[1;31m---------------------------------------------------------------------------\u001b[0m",
      "\u001b[1;31mMemoryError\u001b[0m                               Traceback (most recent call last)",
      "Cell \u001b[1;32mIn[23], line 1\u001b[0m\n\u001b[1;32m----> 1\u001b[0m merged \u001b[38;5;241m=\u001b[39m \u001b[43mratings1\u001b[49m\u001b[38;5;241;43m.\u001b[39;49m\u001b[43mmerge\u001b[49m\u001b[43m(\u001b[49m\n\u001b[0;32m      2\u001b[0m \u001b[43m    \u001b[49m\u001b[43mratings2\u001b[49m\u001b[43m,\u001b[49m\n\u001b[0;32m      3\u001b[0m \u001b[43m    \u001b[49m\u001b[43mon\u001b[49m\u001b[38;5;241;43m=\u001b[39;49m\u001b[38;5;124;43m\"\u001b[39;49m\u001b[38;5;124;43muserId\u001b[39;49m\u001b[38;5;124;43m\"\u001b[39;49m\u001b[43m,\u001b[49m\n\u001b[0;32m      4\u001b[0m \u001b[43m    \u001b[49m\u001b[43msuffixes\u001b[49m\u001b[38;5;241;43m=\u001b[39;49m\u001b[43m(\u001b[49m\u001b[38;5;124;43m'\u001b[39;49m\u001b[38;5;124;43m_1\u001b[39;49m\u001b[38;5;124;43m'\u001b[39;49m\u001b[43m,\u001b[49m\u001b[43m \u001b[49m\u001b[38;5;124;43m'\u001b[39;49m\u001b[38;5;124;43m_2\u001b[39;49m\u001b[38;5;124;43m'\u001b[39;49m\u001b[43m)\u001b[49m\n\u001b[0;32m      5\u001b[0m \u001b[43m)\u001b[49m\n\u001b[0;32m      7\u001b[0m paired \u001b[38;5;241m=\u001b[39m merged[merged[\u001b[38;5;124m\"\u001b[39m\u001b[38;5;124mmovieId_1\u001b[39m\u001b[38;5;124m\"\u001b[39m] \u001b[38;5;241m<\u001b[39m merged[\u001b[38;5;124m\"\u001b[39m\u001b[38;5;124mmovieId_2\u001b[39m\u001b[38;5;124m\"\u001b[39m]]\n\u001b[0;32m      9\u001b[0m paired\u001b[38;5;241m.\u001b[39mhead(\u001b[38;5;241m40\u001b[39m)\n",
      "File \u001b[1;32mc:\\Users\\cdadmin\\AppData\\Local\\Programs\\Python\\Python311\\Lib\\site-packages\\pandas\\core\\frame.py:10093\u001b[0m, in \u001b[0;36mDataFrame.merge\u001b[1;34m(self, right, how, on, left_on, right_on, left_index, right_index, sort, suffixes, copy, indicator, validate)\u001b[0m\n\u001b[0;32m  10074\u001b[0m \u001b[38;5;129m@Substitution\u001b[39m(\u001b[38;5;124m\"\u001b[39m\u001b[38;5;124m\"\u001b[39m)\n\u001b[0;32m  10075\u001b[0m \u001b[38;5;129m@Appender\u001b[39m(_merge_doc, indents\u001b[38;5;241m=\u001b[39m\u001b[38;5;241m2\u001b[39m)\n\u001b[0;32m  10076\u001b[0m \u001b[38;5;28;01mdef\u001b[39;00m \u001b[38;5;21mmerge\u001b[39m(\n\u001b[1;32m   (...)\u001b[0m\n\u001b[0;32m  10089\u001b[0m     validate: \u001b[38;5;28mstr\u001b[39m \u001b[38;5;241m|\u001b[39m \u001b[38;5;28;01mNone\u001b[39;00m \u001b[38;5;241m=\u001b[39m \u001b[38;5;28;01mNone\u001b[39;00m,\n\u001b[0;32m  10090\u001b[0m ) \u001b[38;5;241m-\u001b[39m\u001b[38;5;241m>\u001b[39m DataFrame:\n\u001b[0;32m  10091\u001b[0m     \u001b[38;5;28;01mfrom\u001b[39;00m \u001b[38;5;21;01mpandas\u001b[39;00m\u001b[38;5;21;01m.\u001b[39;00m\u001b[38;5;21;01mcore\u001b[39;00m\u001b[38;5;21;01m.\u001b[39;00m\u001b[38;5;21;01mreshape\u001b[39;00m\u001b[38;5;21;01m.\u001b[39;00m\u001b[38;5;21;01mmerge\u001b[39;00m \u001b[38;5;28;01mimport\u001b[39;00m merge\n\u001b[1;32m> 10093\u001b[0m     \u001b[38;5;28;01mreturn\u001b[39;00m \u001b[43mmerge\u001b[49m\u001b[43m(\u001b[49m\n\u001b[0;32m  10094\u001b[0m \u001b[43m        \u001b[49m\u001b[38;5;28;43mself\u001b[39;49m\u001b[43m,\u001b[49m\n\u001b[0;32m  10095\u001b[0m \u001b[43m        \u001b[49m\u001b[43mright\u001b[49m\u001b[43m,\u001b[49m\n\u001b[0;32m  10096\u001b[0m \u001b[43m        \u001b[49m\u001b[43mhow\u001b[49m\u001b[38;5;241;43m=\u001b[39;49m\u001b[43mhow\u001b[49m\u001b[43m,\u001b[49m\n\u001b[0;32m  10097\u001b[0m \u001b[43m        \u001b[49m\u001b[43mon\u001b[49m\u001b[38;5;241;43m=\u001b[39;49m\u001b[43mon\u001b[49m\u001b[43m,\u001b[49m\n\u001b[0;32m  10098\u001b[0m \u001b[43m        \u001b[49m\u001b[43mleft_on\u001b[49m\u001b[38;5;241;43m=\u001b[39;49m\u001b[43mleft_on\u001b[49m\u001b[43m,\u001b[49m\n\u001b[0;32m  10099\u001b[0m \u001b[43m        \u001b[49m\u001b[43mright_on\u001b[49m\u001b[38;5;241;43m=\u001b[39;49m\u001b[43mright_on\u001b[49m\u001b[43m,\u001b[49m\n\u001b[0;32m  10100\u001b[0m \u001b[43m        \u001b[49m\u001b[43mleft_index\u001b[49m\u001b[38;5;241;43m=\u001b[39;49m\u001b[43mleft_index\u001b[49m\u001b[43m,\u001b[49m\n\u001b[0;32m  10101\u001b[0m \u001b[43m        \u001b[49m\u001b[43mright_index\u001b[49m\u001b[38;5;241;43m=\u001b[39;49m\u001b[43mright_index\u001b[49m\u001b[43m,\u001b[49m\n\u001b[0;32m  10102\u001b[0m \u001b[43m        \u001b[49m\u001b[43msort\u001b[49m\u001b[38;5;241;43m=\u001b[39;49m\u001b[43msort\u001b[49m\u001b[43m,\u001b[49m\n\u001b[0;32m  10103\u001b[0m \u001b[43m        \u001b[49m\u001b[43msuffixes\u001b[49m\u001b[38;5;241;43m=\u001b[39;49m\u001b[43msuffixes\u001b[49m\u001b[43m,\u001b[49m\n\u001b[0;32m  10104\u001b[0m \u001b[43m        \u001b[49m\u001b[43mcopy\u001b[49m\u001b[38;5;241;43m=\u001b[39;49m\u001b[43mcopy\u001b[49m\u001b[43m,\u001b[49m\n\u001b[0;32m  10105\u001b[0m \u001b[43m        \u001b[49m\u001b[43mindicator\u001b[49m\u001b[38;5;241;43m=\u001b[39;49m\u001b[43mindicator\u001b[49m\u001b[43m,\u001b[49m\n\u001b[0;32m  10106\u001b[0m \u001b[43m        \u001b[49m\u001b[43mvalidate\u001b[49m\u001b[38;5;241;43m=\u001b[39;49m\u001b[43mvalidate\u001b[49m\u001b[43m,\u001b[49m\n\u001b[0;32m  10107\u001b[0m \u001b[43m    \u001b[49m\u001b[43m)\u001b[49m\n",
      "File \u001b[1;32mc:\\Users\\cdadmin\\AppData\\Local\\Programs\\Python\\Python311\\Lib\\site-packages\\pandas\\core\\reshape\\merge.py:124\u001b[0m, in \u001b[0;36mmerge\u001b[1;34m(left, right, how, on, left_on, right_on, left_index, right_index, sort, suffixes, copy, indicator, validate)\u001b[0m\n\u001b[0;32m     93\u001b[0m \u001b[38;5;129m@Substitution\u001b[39m(\u001b[38;5;124m\"\u001b[39m\u001b[38;5;130;01m\\n\u001b[39;00m\u001b[38;5;124mleft : DataFrame or named Series\u001b[39m\u001b[38;5;124m\"\u001b[39m)\n\u001b[0;32m     94\u001b[0m \u001b[38;5;129m@Appender\u001b[39m(_merge_doc, indents\u001b[38;5;241m=\u001b[39m\u001b[38;5;241m0\u001b[39m)\n\u001b[0;32m     95\u001b[0m \u001b[38;5;28;01mdef\u001b[39;00m \u001b[38;5;21mmerge\u001b[39m(\n\u001b[1;32m   (...)\u001b[0m\n\u001b[0;32m    108\u001b[0m     validate: \u001b[38;5;28mstr\u001b[39m \u001b[38;5;241m|\u001b[39m \u001b[38;5;28;01mNone\u001b[39;00m \u001b[38;5;241m=\u001b[39m \u001b[38;5;28;01mNone\u001b[39;00m,\n\u001b[0;32m    109\u001b[0m ) \u001b[38;5;241m-\u001b[39m\u001b[38;5;241m>\u001b[39m DataFrame:\n\u001b[0;32m    110\u001b[0m     op \u001b[38;5;241m=\u001b[39m _MergeOperation(\n\u001b[0;32m    111\u001b[0m         left,\n\u001b[0;32m    112\u001b[0m         right,\n\u001b[1;32m   (...)\u001b[0m\n\u001b[0;32m    122\u001b[0m         validate\u001b[38;5;241m=\u001b[39mvalidate,\n\u001b[0;32m    123\u001b[0m     )\n\u001b[1;32m--> 124\u001b[0m     \u001b[38;5;28;01mreturn\u001b[39;00m \u001b[43mop\u001b[49m\u001b[38;5;241;43m.\u001b[39;49m\u001b[43mget_result\u001b[49m\u001b[43m(\u001b[49m\u001b[43mcopy\u001b[49m\u001b[38;5;241;43m=\u001b[39;49m\u001b[43mcopy\u001b[49m\u001b[43m)\u001b[49m\n",
      "File \u001b[1;32mc:\\Users\\cdadmin\\AppData\\Local\\Programs\\Python\\Python311\\Lib\\site-packages\\pandas\\core\\reshape\\merge.py:773\u001b[0m, in \u001b[0;36m_MergeOperation.get_result\u001b[1;34m(self, copy)\u001b[0m\n\u001b[0;32m    770\u001b[0m \u001b[38;5;28;01mif\u001b[39;00m \u001b[38;5;28mself\u001b[39m\u001b[38;5;241m.\u001b[39mindicator:\n\u001b[0;32m    771\u001b[0m     \u001b[38;5;28mself\u001b[39m\u001b[38;5;241m.\u001b[39mleft, \u001b[38;5;28mself\u001b[39m\u001b[38;5;241m.\u001b[39mright \u001b[38;5;241m=\u001b[39m \u001b[38;5;28mself\u001b[39m\u001b[38;5;241m.\u001b[39m_indicator_pre_merge(\u001b[38;5;28mself\u001b[39m\u001b[38;5;241m.\u001b[39mleft, \u001b[38;5;28mself\u001b[39m\u001b[38;5;241m.\u001b[39mright)\n\u001b[1;32m--> 773\u001b[0m join_index, left_indexer, right_indexer \u001b[38;5;241m=\u001b[39m \u001b[38;5;28;43mself\u001b[39;49m\u001b[38;5;241;43m.\u001b[39;49m\u001b[43m_get_join_info\u001b[49m\u001b[43m(\u001b[49m\u001b[43m)\u001b[49m\n\u001b[0;32m    775\u001b[0m result \u001b[38;5;241m=\u001b[39m \u001b[38;5;28mself\u001b[39m\u001b[38;5;241m.\u001b[39m_reindex_and_concat(\n\u001b[0;32m    776\u001b[0m     join_index, left_indexer, right_indexer, copy\u001b[38;5;241m=\u001b[39mcopy\n\u001b[0;32m    777\u001b[0m )\n\u001b[0;32m    778\u001b[0m result \u001b[38;5;241m=\u001b[39m result\u001b[38;5;241m.\u001b[39m__finalize__(\u001b[38;5;28mself\u001b[39m, method\u001b[38;5;241m=\u001b[39m\u001b[38;5;28mself\u001b[39m\u001b[38;5;241m.\u001b[39m_merge_type)\n",
      "File \u001b[1;32mc:\\Users\\cdadmin\\AppData\\Local\\Programs\\Python\\Python311\\Lib\\site-packages\\pandas\\core\\reshape\\merge.py:1026\u001b[0m, in \u001b[0;36m_MergeOperation._get_join_info\u001b[1;34m(self)\u001b[0m\n\u001b[0;32m   1022\u001b[0m     join_index, right_indexer, left_indexer \u001b[38;5;241m=\u001b[39m _left_join_on_index(\n\u001b[0;32m   1023\u001b[0m         right_ax, left_ax, \u001b[38;5;28mself\u001b[39m\u001b[38;5;241m.\u001b[39mright_join_keys, sort\u001b[38;5;241m=\u001b[39m\u001b[38;5;28mself\u001b[39m\u001b[38;5;241m.\u001b[39msort\n\u001b[0;32m   1024\u001b[0m     )\n\u001b[0;32m   1025\u001b[0m \u001b[38;5;28;01melse\u001b[39;00m:\n\u001b[1;32m-> 1026\u001b[0m     (left_indexer, right_indexer) \u001b[38;5;241m=\u001b[39m \u001b[38;5;28;43mself\u001b[39;49m\u001b[38;5;241;43m.\u001b[39;49m\u001b[43m_get_join_indexers\u001b[49m\u001b[43m(\u001b[49m\u001b[43m)\u001b[49m\n\u001b[0;32m   1028\u001b[0m     \u001b[38;5;28;01mif\u001b[39;00m \u001b[38;5;28mself\u001b[39m\u001b[38;5;241m.\u001b[39mright_index:\n\u001b[0;32m   1029\u001b[0m         \u001b[38;5;28;01mif\u001b[39;00m \u001b[38;5;28mlen\u001b[39m(\u001b[38;5;28mself\u001b[39m\u001b[38;5;241m.\u001b[39mleft) \u001b[38;5;241m>\u001b[39m \u001b[38;5;241m0\u001b[39m:\n",
      "File \u001b[1;32mc:\\Users\\cdadmin\\AppData\\Local\\Programs\\Python\\Python311\\Lib\\site-packages\\pandas\\core\\reshape\\merge.py:1000\u001b[0m, in \u001b[0;36m_MergeOperation._get_join_indexers\u001b[1;34m(self)\u001b[0m\n\u001b[0;32m    998\u001b[0m \u001b[38;5;28;01mdef\u001b[39;00m \u001b[38;5;21m_get_join_indexers\u001b[39m(\u001b[38;5;28mself\u001b[39m) \u001b[38;5;241m-\u001b[39m\u001b[38;5;241m>\u001b[39m \u001b[38;5;28mtuple\u001b[39m[npt\u001b[38;5;241m.\u001b[39mNDArray[np\u001b[38;5;241m.\u001b[39mintp], npt\u001b[38;5;241m.\u001b[39mNDArray[np\u001b[38;5;241m.\u001b[39mintp]]:\n\u001b[0;32m    999\u001b[0m \u001b[38;5;250m    \u001b[39m\u001b[38;5;124;03m\"\"\"return the join indexers\"\"\"\u001b[39;00m\n\u001b[1;32m-> 1000\u001b[0m     \u001b[38;5;28;01mreturn\u001b[39;00m \u001b[43mget_join_indexers\u001b[49m\u001b[43m(\u001b[49m\n\u001b[0;32m   1001\u001b[0m \u001b[43m        \u001b[49m\u001b[38;5;28;43mself\u001b[39;49m\u001b[38;5;241;43m.\u001b[39;49m\u001b[43mleft_join_keys\u001b[49m\u001b[43m,\u001b[49m\u001b[43m \u001b[49m\u001b[38;5;28;43mself\u001b[39;49m\u001b[38;5;241;43m.\u001b[39;49m\u001b[43mright_join_keys\u001b[49m\u001b[43m,\u001b[49m\u001b[43m \u001b[49m\u001b[43msort\u001b[49m\u001b[38;5;241;43m=\u001b[39;49m\u001b[38;5;28;43mself\u001b[39;49m\u001b[38;5;241;43m.\u001b[39;49m\u001b[43msort\u001b[49m\u001b[43m,\u001b[49m\u001b[43m \u001b[49m\u001b[43mhow\u001b[49m\u001b[38;5;241;43m=\u001b[39;49m\u001b[38;5;28;43mself\u001b[39;49m\u001b[38;5;241;43m.\u001b[39;49m\u001b[43mhow\u001b[49m\n\u001b[0;32m   1002\u001b[0m \u001b[43m    \u001b[49m\u001b[43m)\u001b[49m\n",
      "File \u001b[1;32mc:\\Users\\cdadmin\\AppData\\Local\\Programs\\Python\\Python311\\Lib\\site-packages\\pandas\\core\\reshape\\merge.py:1610\u001b[0m, in \u001b[0;36mget_join_indexers\u001b[1;34m(left_keys, right_keys, sort, how, **kwargs)\u001b[0m\n\u001b[0;32m   1600\u001b[0m join_func \u001b[38;5;241m=\u001b[39m {\n\u001b[0;32m   1601\u001b[0m     \u001b[38;5;124m\"\u001b[39m\u001b[38;5;124minner\u001b[39m\u001b[38;5;124m\"\u001b[39m: libjoin\u001b[38;5;241m.\u001b[39minner_join,\n\u001b[0;32m   1602\u001b[0m     \u001b[38;5;124m\"\u001b[39m\u001b[38;5;124mleft\u001b[39m\u001b[38;5;124m\"\u001b[39m: libjoin\u001b[38;5;241m.\u001b[39mleft_outer_join,\n\u001b[1;32m   (...)\u001b[0m\n\u001b[0;32m   1606\u001b[0m     \u001b[38;5;124m\"\u001b[39m\u001b[38;5;124mouter\u001b[39m\u001b[38;5;124m\"\u001b[39m: libjoin\u001b[38;5;241m.\u001b[39mfull_outer_join,\n\u001b[0;32m   1607\u001b[0m }[how]\n\u001b[0;32m   1609\u001b[0m \u001b[38;5;66;03m# error: Cannot call function of unknown type\u001b[39;00m\n\u001b[1;32m-> 1610\u001b[0m \u001b[38;5;28;01mreturn\u001b[39;00m \u001b[43mjoin_func\u001b[49m\u001b[43m(\u001b[49m\u001b[43mlkey\u001b[49m\u001b[43m,\u001b[49m\u001b[43m \u001b[49m\u001b[43mrkey\u001b[49m\u001b[43m,\u001b[49m\u001b[43m \u001b[49m\u001b[43mcount\u001b[49m\u001b[43m,\u001b[49m\u001b[43m \u001b[49m\u001b[38;5;241;43m*\u001b[39;49m\u001b[38;5;241;43m*\u001b[39;49m\u001b[43mkwargs\u001b[49m\u001b[43m)\u001b[49m\n",
      "File \u001b[1;32mc:\\Users\\cdadmin\\AppData\\Local\\Programs\\Python\\Python311\\Lib\\site-packages\\pandas\\_libs\\join.pyx:48\u001b[0m, in \u001b[0;36mpandas._libs.join.inner_join\u001b[1;34m()\u001b[0m\n",
      "\u001b[1;31mMemoryError\u001b[0m: Unable to allocate 116. GiB for an array with shape (15523632345,) and data type int64"
     ]
    }
   ],
   "source": [
    "merged = ratings1.merge(\n",
    "    ratings2,\n",
    "    on=\"userId\",\n",
    "    suffixes=('_1', '_2')\n",
    ")\n",
    "\n",
    "paired = merged[merged[\"movieId_1\"] < merged[\"movieId_2\"]]\n",
    "\n",
    "paired.head(40)"
   ]
  },
  {
   "cell_type": "code",
   "execution_count": null,
   "metadata": {},
   "outputs": [],
   "source": [
    "from pyvis.network import Network\n",
    "import networkx as nx\n",
    "\n",
    "# Sample movie data\n",
    "movies = [\n",
    "    {\n",
    "        \"title\": \"Inception\",\n",
    "        \"image\": \"https://upload.wikimedia.org/wikipedia/en/7/7f/Inception_ver3.jpg\",\n",
    "        \"genre\": \"sci-fi\",\n",
    "        \"popularity\": 90\n",
    "    },\n",
    "    {\n",
    "        \"title\": \"The Matrix\",\n",
    "        \"image\": \"https://upload.wikimedia.org/wikipedia/en/c/c1/The_Matrix_Poster.jpg\",\n",
    "        \"genre\": \"sci-fi\",\n",
    "        \"popularity\": 85\n",
    "    },\n",
    "    {\n",
    "        \"title\": \"Titanic\",\n",
    "        \"image\": \"https://upload.wikimedia.org/wikipedia/en/2/22/Titanic_poster.jpg\",\n",
    "        \"genre\": \"love\",\n",
    "        \"popularity\": 95\n",
    "    },\n",
    "    {\n",
    "        \"title\": \"The Lord of the Rings\",\n",
    "        \"image\": \"https://upload.wikimedia.org/wikipedia/en/0/0c/The_Lord_of_the_Rings_The_Fellowship_of_the_Ring_%282001%29_theatrical_poster.jpg\",\n",
    "        \"genre\": \"fantasy\",\n",
    "        \"popularity\": 92\n",
    "    },\n",
    "    {\n",
    "        \"title\": \"John Wick\",\n",
    "        \"image\": \"https://upload.wikimedia.org/wikipedia/en/9/98/John_Wick_TeaserPoster.jpg\",\n",
    "        \"genre\": \"action\",\n",
    "        \"popularity\": 80\n",
    "    }\n",
    "]\n",
    "\n",
    "# Define genre to border color mapping\n",
    "genre_colors = {\n",
    "    \"sci-fi\": \"blue\",\n",
    "    \"love\": \"pink\",\n",
    "    \"fantasy\": \"green\",\n",
    "    \"action\": \"red\"\n",
    "}\n",
    "\n",
    "# Initialize PyVis network\n",
    "net = Network(height='800px', width='100%', bgcolor='#222222', font_color='white')\n",
    "net.force_atlas_2based()  # Better for larger graphs\n",
    "\n",
    "# Add nodes\n",
    "for movie in movies:\n",
    "    net.add_node(\n",
    "        movie[\"title\"],\n",
    "        label=\"\",  # Don't show label (optional)\n",
    "        shape=\"circularImage\",\n",
    "        image=movie[\"image\"],\n",
    "        size=movie[\"popularity\"] / 2,  # scale size\n",
    "        borderWidth=4,\n",
    "        color=genre_colors.get(movie[\"genre\"], \"gray\")\n",
    "    )\n",
    "\n",
    "edges = [\n",
    "    (\"Inception\", \"The Matrix\", 8),\n",
    "    (\"Inception\", \"John Wick\", 5),\n",
    "    (\"The Matrix\", \"John Wick\", 7),\n",
    "    (\"The Lord of the Rings\", \"Titanic\", 2),\n",
    "    (\"Titanic\", \"Inception\", 4),\n",
    "]\n",
    "\n",
    "for src, dst, weight in edges:\n",
    "    net.add_edge(src, dst, title=f\"Similarity: {weight}\", value=weight)\n",
    "\n",
    "# Save and show\n",
    "net.show(\"movie_graph.html\")\n"
   ]
  }
 ],
 "metadata": {
  "kernelspec": {
   "display_name": "Python 3",
   "language": "python",
   "name": "python3"
  },
  "language_info": {
   "codemirror_mode": {
    "name": "ipython",
    "version": 3
   },
   "file_extension": ".py",
   "mimetype": "text/x-python",
   "name": "python",
   "nbconvert_exporter": "python",
   "pygments_lexer": "ipython3",
   "version": "3.11.2"
  }
 },
 "nbformat": 4,
 "nbformat_minor": 2
}
